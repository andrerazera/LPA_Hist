{
 "cells": [
  {
   "cell_type": "code",
   "execution_count": 2,
   "metadata": {},
   "outputs": [
    {
     "name": "stderr",
     "output_type": "stream",
     "text": [
      "C:\\Users\\583152\\AppData\\Roaming\\Python\\Python37\\site-packages\\pandas\\compat\\_optional.py:138: UserWarning: Pandas requires version '2.7.0' or newer of 'numexpr' (version '2.6.9' currently installed).\n",
      "  warnings.warn(msg, UserWarning)\n"
     ]
    }
   ],
   "source": [
    "import pandas as pd\n",
    "# !pip install pandas_datareader\n",
    "from pandas_datareader import data as web\n",
    "from datetime import datetime\n",
    "from datetime import date\n",
    "import investpy as inv\n",
    "import numpy as np\n"
   ]
  },
  {
   "cell_type": "code",
   "execution_count": 3,
   "metadata": {},
   "outputs": [],
   "source": [
    "#ler massa de dados\n",
    "dreitr = pd.read_csv('DADOS/itr_cia_aberta_DRE_con_2011-2021')\n",
    "dredfp = pd.read_csv('DADOS/dfp_cia_aberta_DRE_con_2011-2021')\n",
    "\n",
    "# relação de empresas\n",
    "empresas = dreitr[['DENOM_CIA','CD_CVM','CNPJ_CIA']].drop_duplicates().set_index('CD_CVM')\n",
    "# Relação de contas\n",
    "# contas = empresa[['CD_CONTA','DS_CONTA']].drop_duplicates().set_index('CD_CONTA')\n",
    "# '3.99.01.01'\n",
    "\n",
    "\n",
    "# Manter uma relação de datas padrão\n",
    "data_ini = '01/01/2011'\n",
    "data_fim = '09/02/2022'\n",
    "\n"
   ]
  },
  {
   "cell_type": "code",
   "execution_count": 4,
   "metadata": {},
   "outputs": [],
   "source": [
    "def CalculoLPA(codigo_cvm,conta_cvm='3.99.01.01'):\n",
    "\n",
    "    #Selecao de empresas nos arquivos principais\n",
    "    empresa = dreitr[dreitr['CD_CVM']==codigo_cvm]\n",
    "    empresadfp = dredfp[dredfp['CD_CVM']==codigo_cvm]\n",
    "\n",
    "    #LPA do ITR\n",
    "    lpa = empresa[empresa['CD_CONTA'] == conta_cvm]\n",
    "    lpa = lpa[lpa['ORDEM_EXERC'] == 'ÚLTIMO']\n",
    "    lpa['DT_INI_EXERC'] = pd.to_datetime(lpa['DT_INI_EXERC'])\n",
    "    lpa['DT_FIM_EXERC'] = pd.to_datetime(lpa['DT_FIM_EXERC'])\n",
    "    lpa['Timedelta'] = pd.to_timedelta(lpa['DT_FIM_EXERC']-lpa['DT_INI_EXERC'], unit='D', errors='raise') #calcular o delta dos registros para localizar os registros apenas de trimestres separados e não de acumulado do ano\n",
    "    lpa = lpa[lpa['Timedelta'] < pd.Timedelta(100, unit='D')] #filtrar somente registros de trimestres em separado\n",
    "    lpa = lpa[['DT_FIM_EXERC','VL_CONTA']].set_index('DT_FIM_EXERC')\n",
    "\n",
    "    #LPA do DFP\n",
    "    lpadfp = empresadfp[empresadfp['ORDEM_EXERC'] == 'ÚLTIMO']\n",
    "    lpadfp = lpadfp[lpadfp['CD_CONTA'] == conta_cvm]\n",
    "    lpadfp['DT_INI_EXERC'] = pd.to_datetime(lpadfp['DT_INI_EXERC'])\n",
    "    lpadfp['DT_FIM_EXERC'] = pd.to_datetime(lpadfp['DT_FIM_EXERC'])\n",
    "    lpadfp = lpadfp[['DT_FIM_EXERC','VL_CONTA']].set_index('DT_FIM_EXERC')\n",
    "    lpa['ano'] = lpa.index.year #testar remover linha\n",
    "    lpadfp['ano'] = lpadfp.index.year\n",
    "\n",
    "\n",
    "    #Obter lpa somente do quarto tri\n",
    "    lpaano = lpa.groupby('ano').sum()\n",
    "    lpaano.rename(columns={'VL_CONTA':'VL_CONTA_AC_3Q'}, inplace=True)\n",
    "    lpadfpano = lpadfp.groupby('ano').sum()\n",
    "    lpadfpano.rename(columns={'VL_CONTA':'VL_CONTA_AC_4Q'}, inplace=True)\n",
    "\n",
    "    lpa4q = lpaano.join(lpadfpano)\n",
    "    lpa4q['VL_CONTA_SO_4Q'] = lpa4q['VL_CONTA_AC_4Q'] - lpa4q['VL_CONTA_AC_3Q']\n",
    "    lpa4q.reset_index(inplace=True)\n",
    "    lpa4q['date'] = lpa4q['ano'].astype(str)+'-12-31'\n",
    "    lpa4q = lpa4q[['date','ano','VL_CONTA_SO_4Q']].set_index('date')\n",
    "    lpa4q.rename(columns={'VL_CONTA_SO_4Q':'VL_CONTA'}, inplace=True)\n",
    "\n",
    "    #Consolidar dataframe com LPAs por trimestre\n",
    "    lpa_trimestral = pd.concat([lpa, lpa4q]).drop('ano',axis=1)\n",
    "    lpa_trimestral.index = pd.to_datetime(lpa_trimestral.index)\n",
    "    lpa_trimestral.sort_index(inplace=True)\n",
    "\n",
    "    lpa_trimestral['ultimos 4q'] = lpa_trimestral['VL_CONTA'].rolling(4, min_periods=4).sum()\n",
    "    lpa_trimestral['media 4q'] = lpa_trimestral['VL_CONTA'].rolling(4, min_periods=4).mean()\n",
    "\n",
    "    lpa_trimestral['CD_CVM'] = codigo_cvm\n",
    "    lpa_trimestral['CD_CONTA'] = conta_cvm\n",
    "\n",
    "\n",
    "    # Obter ticker b3\n",
    "\n",
    "    global ticker\n",
    "\n",
    "    ticker = pd.read_excel('AUXILIAR\\Empresas_Cadastro_Full.xlsx')\n",
    "    tickerPN = ticker[ticker['CD_CVM'] == codigo_cvm]['PN'].iloc[0]\n",
    "    tickerON = ticker[ticker['CD_CVM'] == codigo_cvm]['ON'].iloc[0]\n",
    "\n",
    "\n",
    "    \n",
    "    if conta_cvm == '3.99.01.01': #ON\n",
    "        ticker=tickerON\n",
    "    elif conta_cvm == '3.99.01.02': #PN\n",
    "        ticker=tickerPN\n",
    "\n",
    "\n",
    "   \n",
    "    lpa_trimestral['TP_TICKER'] = ticker  #talvez daria para levar o nome do ticker somente no arquivo salvo, nao precisaria ter uma serie repetindo               \n",
    "\n",
    "    lpa_trimestral.index.name = 'Date'\n",
    "\n",
    "    # Obter cotações do periodo  \n",
    "    \n",
    "    if pd.isna(ticker) == False:\n",
    "        cotacoes = pd.DataFrame(inv.get_stock_historical_data(stock=ticker,\n",
    "                                            country='brazil',\n",
    "                                            from_date=data_ini,\n",
    "                                            to_date=data_fim)['Close'])\n",
    "\n",
    "        # cotacoes = cotacoes.join(lpa_trimestral)\n",
    "\n",
    "        df_output = pd.date_range(start=data_ini,end=data_fim)\n",
    "        df_output = pd.DataFrame(df_output, columns=['Date']).set_index('Date')\n",
    "        df_output = df_output.join(cotacoes).join(lpa_trimestral)\n",
    "    else:\n",
    "        df_output = pd.DataFrame(columns=['ticker not found'])\n",
    "\n",
    "\n",
    "    return df_output.ffill()\n"
   ]
  },
  {
   "cell_type": "code",
   "execution_count": 5,
   "metadata": {},
   "outputs": [
    {
     "data": {
      "text/html": [
       "<div>\n",
       "<style scoped>\n",
       "    .dataframe tbody tr th:only-of-type {\n",
       "        vertical-align: middle;\n",
       "    }\n",
       "\n",
       "    .dataframe tbody tr th {\n",
       "        vertical-align: top;\n",
       "    }\n",
       "\n",
       "    .dataframe thead th {\n",
       "        text-align: right;\n",
       "    }\n",
       "</style>\n",
       "<table border=\"1\" class=\"dataframe\">\n",
       "  <thead>\n",
       "    <tr style=\"text-align: right;\">\n",
       "      <th></th>\n",
       "      <th>Close</th>\n",
       "      <th>VL_CONTA</th>\n",
       "      <th>ultimos 4q</th>\n",
       "      <th>media 4q</th>\n",
       "      <th>CD_CVM</th>\n",
       "      <th>CD_CONTA</th>\n",
       "      <th>TP_TICKER</th>\n",
       "    </tr>\n",
       "    <tr>\n",
       "      <th>Date</th>\n",
       "      <th></th>\n",
       "      <th></th>\n",
       "      <th></th>\n",
       "      <th></th>\n",
       "      <th></th>\n",
       "      <th></th>\n",
       "      <th></th>\n",
       "    </tr>\n",
       "  </thead>\n",
       "  <tbody>\n",
       "    <tr>\n",
       "      <th>2011-01-01</th>\n",
       "      <td>NaN</td>\n",
       "      <td>NaN</td>\n",
       "      <td>NaN</td>\n",
       "      <td>NaN</td>\n",
       "      <td>NaN</td>\n",
       "      <td>NaN</td>\n",
       "      <td>NaN</td>\n",
       "    </tr>\n",
       "    <tr>\n",
       "      <th>2011-01-02</th>\n",
       "      <td>NaN</td>\n",
       "      <td>NaN</td>\n",
       "      <td>NaN</td>\n",
       "      <td>NaN</td>\n",
       "      <td>NaN</td>\n",
       "      <td>NaN</td>\n",
       "      <td>NaN</td>\n",
       "    </tr>\n",
       "    <tr>\n",
       "      <th>2011-01-03</th>\n",
       "      <td>3.75</td>\n",
       "      <td>NaN</td>\n",
       "      <td>NaN</td>\n",
       "      <td>NaN</td>\n",
       "      <td>NaN</td>\n",
       "      <td>NaN</td>\n",
       "      <td>NaN</td>\n",
       "    </tr>\n",
       "    <tr>\n",
       "      <th>2011-01-04</th>\n",
       "      <td>3.75</td>\n",
       "      <td>NaN</td>\n",
       "      <td>NaN</td>\n",
       "      <td>NaN</td>\n",
       "      <td>NaN</td>\n",
       "      <td>NaN</td>\n",
       "      <td>NaN</td>\n",
       "    </tr>\n",
       "    <tr>\n",
       "      <th>2011-01-05</th>\n",
       "      <td>3.75</td>\n",
       "      <td>NaN</td>\n",
       "      <td>NaN</td>\n",
       "      <td>NaN</td>\n",
       "      <td>NaN</td>\n",
       "      <td>NaN</td>\n",
       "      <td>NaN</td>\n",
       "    </tr>\n",
       "    <tr>\n",
       "      <th>...</th>\n",
       "      <td>...</td>\n",
       "      <td>...</td>\n",
       "      <td>...</td>\n",
       "      <td>...</td>\n",
       "      <td>...</td>\n",
       "      <td>...</td>\n",
       "      <td>...</td>\n",
       "    </tr>\n",
       "    <tr>\n",
       "      <th>2022-08-29</th>\n",
       "      <td>15.50</td>\n",
       "      <td>2.0845</td>\n",
       "      <td>113.8712</td>\n",
       "      <td>28.4678</td>\n",
       "      <td>14451.0</td>\n",
       "      <td>3.99.01.01</td>\n",
       "      <td>CEBR3</td>\n",
       "    </tr>\n",
       "    <tr>\n",
       "      <th>2022-08-30</th>\n",
       "      <td>15.50</td>\n",
       "      <td>2.0845</td>\n",
       "      <td>113.8712</td>\n",
       "      <td>28.4678</td>\n",
       "      <td>14451.0</td>\n",
       "      <td>3.99.01.01</td>\n",
       "      <td>CEBR3</td>\n",
       "    </tr>\n",
       "    <tr>\n",
       "      <th>2022-08-31</th>\n",
       "      <td>15.50</td>\n",
       "      <td>2.0845</td>\n",
       "      <td>113.8712</td>\n",
       "      <td>28.4678</td>\n",
       "      <td>14451.0</td>\n",
       "      <td>3.99.01.01</td>\n",
       "      <td>CEBR3</td>\n",
       "    </tr>\n",
       "    <tr>\n",
       "      <th>2022-09-01</th>\n",
       "      <td>15.50</td>\n",
       "      <td>2.0845</td>\n",
       "      <td>113.8712</td>\n",
       "      <td>28.4678</td>\n",
       "      <td>14451.0</td>\n",
       "      <td>3.99.01.01</td>\n",
       "      <td>CEBR3</td>\n",
       "    </tr>\n",
       "    <tr>\n",
       "      <th>2022-09-02</th>\n",
       "      <td>15.50</td>\n",
       "      <td>2.0845</td>\n",
       "      <td>113.8712</td>\n",
       "      <td>28.4678</td>\n",
       "      <td>14451.0</td>\n",
       "      <td>3.99.01.01</td>\n",
       "      <td>CEBR3</td>\n",
       "    </tr>\n",
       "  </tbody>\n",
       "</table>\n",
       "<p>4263 rows × 7 columns</p>\n",
       "</div>"
      ],
      "text/plain": [
       "            Close  VL_CONTA  ultimos 4q  media 4q   CD_CVM    CD_CONTA  \\\n",
       "Date                                                                     \n",
       "2011-01-01    NaN       NaN         NaN       NaN      NaN         NaN   \n",
       "2011-01-02    NaN       NaN         NaN       NaN      NaN         NaN   \n",
       "2011-01-03   3.75       NaN         NaN       NaN      NaN         NaN   \n",
       "2011-01-04   3.75       NaN         NaN       NaN      NaN         NaN   \n",
       "2011-01-05   3.75       NaN         NaN       NaN      NaN         NaN   \n",
       "...           ...       ...         ...       ...      ...         ...   \n",
       "2022-08-29  15.50    2.0845    113.8712   28.4678  14451.0  3.99.01.01   \n",
       "2022-08-30  15.50    2.0845    113.8712   28.4678  14451.0  3.99.01.01   \n",
       "2022-08-31  15.50    2.0845    113.8712   28.4678  14451.0  3.99.01.01   \n",
       "2022-09-01  15.50    2.0845    113.8712   28.4678  14451.0  3.99.01.01   \n",
       "2022-09-02  15.50    2.0845    113.8712   28.4678  14451.0  3.99.01.01   \n",
       "\n",
       "           TP_TICKER  \n",
       "Date                  \n",
       "2011-01-01       NaN  \n",
       "2011-01-02       NaN  \n",
       "2011-01-03       NaN  \n",
       "2011-01-04       NaN  \n",
       "2011-01-05       NaN  \n",
       "...              ...  \n",
       "2022-08-29     CEBR3  \n",
       "2022-08-30     CEBR3  \n",
       "2022-08-31     CEBR3  \n",
       "2022-09-01     CEBR3  \n",
       "2022-09-02     CEBR3  \n",
       "\n",
       "[4263 rows x 7 columns]"
      ]
     },
     "execution_count": 5,
     "metadata": {},
     "output_type": "execute_result"
    }
   ],
   "source": [
    "CalculoLPA(14451,'3.99.01.01')"
   ]
  },
  {
   "cell_type": "code",
   "execution_count": null,
   "metadata": {},
   "outputs": [],
   "source": []
  },
  {
   "cell_type": "code",
   "execution_count": 6,
   "metadata": {},
   "outputs": [],
   "source": [
    "# gerar todas as planilhas de LPA\n",
    "\n",
    "t = pd.read_excel('AUXILIAR\\Empresas_Cadastro_Full.xlsx')\n",
    "\n",
    "for empr in list(empresas.index):\n",
    "    # print(empr)\n",
    "    # print(ticker)\n",
    "    tPN = t[t['CD_CVM'] == empr]['PN'].iloc[0]\n",
    "    if pd.isna(tPN) == False:\n",
    "        \n",
    "        \n",
    "        df = CalculoLPA(empr,'3.99.01.02')\n",
    "        df.to_excel('LPA/lpa_'+str(tPN)+'.xlsx')\n",
    "\n",
    "    tON = t[t['CD_CVM'] == empr]['ON'].iloc[0]\n",
    "    if pd.isna(tON) == False:\n",
    "\n",
    "        df = CalculoLPA(empr,'3.99.01.01')\n",
    "        df.to_excel('LPA/lpa_'+str(tON)+'.xlsx')\n",
    "\n",
    "\n",
    "\n",
    "\n",
    "\n",
    "\n"
   ]
  },
  {
   "cell_type": "code",
   "execution_count": 7,
   "metadata": {},
   "outputs": [],
   "source": [
    "lx = list(empresas.index)"
   ]
  },
  {
   "cell_type": "code",
   "execution_count": 8,
   "metadata": {},
   "outputs": [
    {
     "data": {
      "text/plain": [
       "4693"
      ]
     },
     "execution_count": 8,
     "metadata": {},
     "output_type": "execute_result"
    }
   ],
   "source": [
    "empr"
   ]
  },
  {
   "cell_type": "code",
   "execution_count": 9,
   "metadata": {},
   "outputs": [
    {
     "data": {
      "text/plain": [
       "True"
      ]
     },
     "execution_count": 9,
     "metadata": {},
     "output_type": "execute_result"
    }
   ],
   "source": [
    "pd.isna(tPN)"
   ]
  },
  {
   "cell_type": "code",
   "execution_count": 10,
   "metadata": {},
   "outputs": [
    {
     "data": {
      "text/plain": [
       "4693"
      ]
     },
     "execution_count": 10,
     "metadata": {},
     "output_type": "execute_result"
    }
   ],
   "source": [
    "empr"
   ]
  },
  {
   "cell_type": "code",
   "execution_count": 11,
   "metadata": {},
   "outputs": [
    {
     "data": {
      "text/plain": [
       "DENOM_CIA    CIA ENERGETICA DE BRASILIA\n",
       "CNPJ_CIA             00.070.698/0001-11\n",
       "Name: 14451, dtype: object"
      ]
     },
     "execution_count": 11,
     "metadata": {},
     "output_type": "execute_result"
    }
   ],
   "source": [
    "empresas.loc[14451]"
   ]
  },
  {
   "cell_type": "code",
   "execution_count": 12,
   "metadata": {},
   "outputs": [],
   "source": [
    "empresas_full = pd.read_excel('AUXILIAR\\Empresas_Cadastro_Full.xlsx')"
   ]
  },
  {
   "cell_type": "code",
   "execution_count": 13,
   "metadata": {},
   "outputs": [
    {
     "data": {
      "text/html": [
       "<div>\n",
       "<style scoped>\n",
       "    .dataframe tbody tr th:only-of-type {\n",
       "        vertical-align: middle;\n",
       "    }\n",
       "\n",
       "    .dataframe tbody tr th {\n",
       "        vertical-align: top;\n",
       "    }\n",
       "\n",
       "    .dataframe thead th {\n",
       "        text-align: right;\n",
       "    }\n",
       "</style>\n",
       "<table border=\"1\" class=\"dataframe\">\n",
       "  <thead>\n",
       "    <tr style=\"text-align: right;\">\n",
       "      <th></th>\n",
       "      <th>Unnamed: 0</th>\n",
       "      <th>CD_CVM</th>\n",
       "      <th>DENOM_CIA</th>\n",
       "      <th>CNPJ_CIA</th>\n",
       "      <th>Sigla</th>\n",
       "      <th>SETOR ECONÔMICO</th>\n",
       "      <th>SUBSETOR</th>\n",
       "      <th>SEGMENTO</th>\n",
       "      <th>LISTAGEM</th>\n",
       "      <th>ON</th>\n",
       "      <th>PN</th>\n",
       "      <th>ON.1</th>\n",
       "      <th>PN.1</th>\n",
       "      <th>ON.2</th>\n",
       "      <th>PN.2</th>\n",
       "    </tr>\n",
       "  </thead>\n",
       "  <tbody>\n",
       "    <tr>\n",
       "      <th>1</th>\n",
       "      <td>1</td>\n",
       "      <td>14451</td>\n",
       "      <td>CIA ENERGETICA DE BRASILIA</td>\n",
       "      <td>00.070.698/0001-11</td>\n",
       "      <td>CEBR</td>\n",
       "      <td>Utilidade Pública</td>\n",
       "      <td>Energia Elétrica</td>\n",
       "      <td>CEB</td>\n",
       "      <td>CEBR</td>\n",
       "      <td>CEBR3</td>\n",
       "      <td>NaN</td>\n",
       "      <td>CEBR3</td>\n",
       "      <td>NaN</td>\n",
       "      <td>CEBR3</td>\n",
       "      <td>NaN</td>\n",
       "    </tr>\n",
       "  </tbody>\n",
       "</table>\n",
       "</div>"
      ],
      "text/plain": [
       "   Unnamed: 0  CD_CVM                   DENOM_CIA            CNPJ_CIA Sigla  \\\n",
       "1           1   14451  CIA ENERGETICA DE BRASILIA  00.070.698/0001-11  CEBR   \n",
       "\n",
       "     SETOR ECONÔMICO          SUBSETOR      SEGMENTO LISTAGEM     ON   PN  \\\n",
       "1  Utilidade Pública  Energia Elétrica  CEB              CEBR  CEBR3  NaN   \n",
       "\n",
       "    ON.1 PN.1   ON.2 PN.2  \n",
       "1  CEBR3  NaN  CEBR3  NaN  "
      ]
     },
     "execution_count": 13,
     "metadata": {},
     "output_type": "execute_result"
    }
   ],
   "source": [
    "empresas_full[empresas_full['CD_CVM'] == 14451]"
   ]
  },
  {
   "cell_type": "code",
   "execution_count": 14,
   "metadata": {},
   "outputs": [],
   "source": [
    "ticker = pd.read_excel('AUXILIAR\\Empresas_Cadastro_Full.xlsx')\n",
    "tickerPN = ticker[ticker['CD_CVM'] == 14451]['PN'].iloc[0]\n",
    "tickerON = ticker[ticker['CD_CVM'] == 14451]['ON'].iloc[0]"
   ]
  },
  {
   "cell_type": "code",
   "execution_count": 15,
   "metadata": {},
   "outputs": [
    {
     "data": {
      "text/plain": [
       "True"
      ]
     },
     "execution_count": 15,
     "metadata": {},
     "output_type": "execute_result"
    }
   ],
   "source": [
    "pd.isna(tickerPN)"
   ]
  },
  {
   "cell_type": "code",
   "execution_count": 16,
   "metadata": {},
   "outputs": [
    {
     "data": {
      "text/plain": [
       "'CEBR3'"
      ]
     },
     "execution_count": 16,
     "metadata": {},
     "output_type": "execute_result"
    }
   ],
   "source": [
    "tickerON"
   ]
  },
  {
   "cell_type": "code",
   "execution_count": 17,
   "metadata": {},
   "outputs": [
    {
     "data": {
      "text/plain": [
       "False"
      ]
     },
     "execution_count": 17,
     "metadata": {},
     "output_type": "execute_result"
    }
   ],
   "source": [
    "pd.isna(tickerPN) == False"
   ]
  },
  {
   "cell_type": "code",
   "execution_count": null,
   "metadata": {},
   "outputs": [],
   "source": []
  }
 ],
 "metadata": {
  "interpreter": {
   "hash": "22fec926bc0d74fa8a71f583b7fa95eb1146d783af839f95be6d511babfe1fdc"
  },
  "kernelspec": {
   "display_name": "Python 3.8.8 64-bit (conda)",
   "language": "python",
   "name": "python3"
  },
  "language_info": {
   "codemirror_mode": {
    "name": "ipython",
    "version": 3
   },
   "file_extension": ".py",
   "mimetype": "text/x-python",
   "name": "python",
   "nbconvert_exporter": "python",
   "pygments_lexer": "ipython3",
   "version": "3.7.3"
  },
  "orig_nbformat": 4
 },
 "nbformat": 4,
 "nbformat_minor": 2
}
