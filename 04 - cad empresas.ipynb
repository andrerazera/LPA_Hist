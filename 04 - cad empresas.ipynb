{
 "cells": [
  {
   "cell_type": "code",
   "execution_count": null,
   "metadata": {},
   "outputs": [],
   "source": [
    "# Montagem do cadastro de empresas com todos dados necessários de cruzamento\n",
    "    # Codigo da CVM que há nos balanços\n",
    "    # Ticker da B3 para consultar cotações e ligar valores de ON e PN\n",
    "    # CNPJ que nesse caso serve para fazer a ponte entre os 2 acima\n",
    "\n",
    "import pandas as pd"
   ]
  },
  {
   "cell_type": "code",
   "execution_count": null,
   "metadata": {},
   "outputs": [],
   "source": [
    "# Obter Dados\n",
    "\n",
    "emp_cvm_cnpj = pd.read_excel('AUXILIAR\\Empresas_CD_CVM_e_CNPJ.xlsx',converters={'CD_CVM':str})\n",
    "\n",
    "emp_ticker_cnpj = pd.read_excel('AUXILIAR\\Empresas_Ticker_CNPJ.xlsx')\n",
    "emp_ticker_cnpj[\"CNPJ\"] = emp_ticker_cnpj[\"CNPJ\"].str.slice(1, 19, 1) # pequeno ajuste no formato do CNPJ\n",
    "\n",
    "emp_setores = pd.read_excel('AUXILIAR\\Empresas_Setores.xlsx', skiprows=5, header=1)\n"
   ]
  },
  {
   "cell_type": "code",
   "execution_count": null,
   "metadata": {},
   "outputs": [],
   "source": [
    "# Primeiro merge para conectar codigo da CVM com codigo de ticker\n",
    "\n",
    "df_emp = emp_cvm_cnpj.merge(\n",
    "            emp_ticker_cnpj,\n",
    "            left_on='CNPJ_CIA', \n",
    "            right_on='CNPJ', \n",
    "            how='left').drop(\n",
    "                ['Denominação social','Nome de pregão','CNPJ'],\n",
    "                axis=1)"
   ]
  },
  {
   "cell_type": "code",
   "execution_count": null,
   "metadata": {},
   "outputs": [],
   "source": [
    "# Limpeza da tabela de setores das empresas\n",
    "\n",
    "emp_setores['SETOR ECONÔMICO'] = emp_setores['SETOR ECONÔMICO'].ffill()\n",
    "emp_setores['SUBSETOR'] = emp_setores['SUBSETOR'].ffill()\n",
    "emp_setores = emp_setores[emp_setores['LISTAGEM'].notna()]\n",
    "emp_setores = emp_setores[(emp_setores['LISTAGEM'] != 'CÓDIGO') & (emp_setores['LISTAGEM'] != 'LISTAGEM')]\n",
    "emp_setores.drop(emp_setores.columns[-1],axis=1, inplace=True)"
   ]
  },
  {
   "cell_type": "code",
   "execution_count": 108,
   "metadata": {},
   "outputs": [],
   "source": [
    "# Segundo merge para obter segmentos\n",
    "\n",
    "df_emp = df_emp.merge(emp_setores, left_on='Sigla', right_on='LISTAGEM', how='left')"
   ]
  },
  {
   "cell_type": "code",
   "execution_count": 109,
   "metadata": {},
   "outputs": [],
   "source": [
    "# Salvar em excel\n",
    "\n",
    "# df_emp.to_excel('AUXILIAR/Empresas_Cadastro_Full.xlsx')"
   ]
  },
  {
   "cell_type": "code",
   "execution_count": null,
   "metadata": {},
   "outputs": [],
   "source": []
  }
 ],
 "metadata": {
  "interpreter": {
   "hash": "e50fc206581d5317a0f7f3817f483f4bfc7cdd003723e5d4ee2ba7e4f3f5ab74"
  },
  "kernelspec": {
   "display_name": "Python 3.7.3 64-bit",
   "language": "python",
   "name": "python3"
  },
  "language_info": {
   "codemirror_mode": {
    "name": "ipython",
    "version": 3
   },
   "file_extension": ".py",
   "mimetype": "text/x-python",
   "name": "python",
   "nbconvert_exporter": "python",
   "pygments_lexer": "ipython3",
   "version": "3.7.3"
  },
  "orig_nbformat": 4
 },
 "nbformat": 4,
 "nbformat_minor": 2
}
