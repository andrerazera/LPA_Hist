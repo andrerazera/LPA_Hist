{
 "cells": [
  {
   "cell_type": "code",
   "execution_count": null,
   "metadata": {},
   "outputs": [],
   "source": [
    "import investpy as inv\n",
    "import pandas as pd\n",
    "acoes_brasil = inv.stocks.get_stocks(country='brazil')"
   ]
  },
  {
   "cell_type": "code",
   "execution_count": null,
   "metadata": {},
   "outputs": [],
   "source": [
    "# Obter o código principal do ticker, apenas os primeiros 4 caracteres\n",
    "\n",
    "acoes_brasil['symbol_main'] = acoes_brasil['symbol'].str.slice(0,4,1)"
   ]
  },
  {
   "cell_type": "code",
   "execution_count": null,
   "metadata": {},
   "outputs": [],
   "source": [
    "# obter serie com 'ON' ou 'PN' para cada ação\n",
    "\n",
    "acoes_brasil['symbol_type'] = acoes_brasil['symbol'].str.slice(4,5,1).apply(\n",
    "    lambda x: 'ON' if x == '3' else ('PN' if (x == '4')|(x == '5')|(x == '6')|(x == '7')|(x == '9') else 'outros'))\n",
    "\n",
    "\n",
    "# acoes_brasil['symbol_type'] = acoes_brasil['symbol'].str.slice(4,5,1).apply(\n",
    "#     lambda x: 'outros' if x == '1' else ('PN' if (int(x) > 4)|(int(x) <= 9) else 'ON'))\n",
    "\n"
   ]
  },
  {
   "cell_type": "code",
   "execution_count": 76,
   "metadata": {},
   "outputs": [],
   "source": [
    "# Seleção somente dos atributos desejados\n",
    "\n",
    "acoes_brasil = acoes_brasil[['name','symbol','symbol_main','symbol_type']]"
   ]
  },
  {
   "cell_type": "code",
   "execution_count": 77,
   "metadata": {},
   "outputs": [],
   "source": [
    "# acoes_brasil.to_excel('AUXILIAR/Empresas_investpy.xlsx')"
   ]
  },
  {
   "cell_type": "code",
   "execution_count": null,
   "metadata": {},
   "outputs": [],
   "source": []
  }
 ],
 "metadata": {
  "interpreter": {
   "hash": "e50fc206581d5317a0f7f3817f483f4bfc7cdd003723e5d4ee2ba7e4f3f5ab74"
  },
  "kernelspec": {
   "display_name": "Python 3.7.3 64-bit",
   "language": "python",
   "name": "python3"
  },
  "language_info": {
   "codemirror_mode": {
    "name": "ipython",
    "version": 3
   },
   "file_extension": ".py",
   "mimetype": "text/x-python",
   "name": "python",
   "nbconvert_exporter": "python",
   "pygments_lexer": "ipython3",
   "version": "3.7.3"
  },
  "orig_nbformat": 4
 },
 "nbformat": 4,
 "nbformat_minor": 2
}
